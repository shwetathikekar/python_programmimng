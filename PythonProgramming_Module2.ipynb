{
  "nbformat": 4,
  "nbformat_minor": 0,
  "metadata": {
    "colab": {
      "name": "PythonProgramming_Module2.ipynb",
      "provenance": [],
      "collapsed_sections": [],
      "authorship_tag": "ABX9TyOCsxwUpKzYS3npC5J5tc4c",
      "include_colab_link": true
    },
    "kernelspec": {
      "name": "python3",
      "display_name": "Python 3"
    },
    "language_info": {
      "name": "python"
    }
  },
  "cells": [
    {
      "cell_type": "markdown",
      "metadata": {
        "id": "view-in-github",
        "colab_type": "text"
      },
      "source": [
        "<a href=\"https://colab.research.google.com/github/shwetathikekar/python_programmimng/blob/main/PythonProgramming_Module2.ipynb\" target=\"_parent\"><img src=\"https://colab.research.google.com/assets/colab-badge.svg\" alt=\"Open In Colab\"/></a>"
      ]
    },
    {
      "cell_type": "markdown",
      "metadata": {
        "id": "Tdnu2lb2ZsLW"
      },
      "source": [
        "# **Sequences and file Operation**\n",
        "\n",
        "Method of Accepting user **input** an** eval** function\n",
        "\n",
        "* Ask user the input\n",
        "\n",
        "  input() - python 3.6\n",
        "  \n",
        "  raw_input() - python 2.7\n"
      ]
    },
    {
      "cell_type": "code",
      "metadata": {
        "colab": {
          "base_uri": "https://localhost:8080/"
        },
        "id": "j0XGXz2naVyE",
        "outputId": "ffb47f98-c6dd-4794-a636-bf6130e2b739"
      },
      "source": [
        "Name = input(\"Enter the name:\")\n",
        "print(Name)"
      ],
      "execution_count": 1,
      "outputs": [
        {
          "output_type": "stream",
          "text": [
            "Enter the name:Shweta\n",
            "Shweta\n"
          ],
          "name": "stdout"
        }
      ]
    },
    {
      "cell_type": "code",
      "metadata": {
        "colab": {
          "base_uri": "https://localhost:8080/"
        },
        "id": "n1v8hb5xeNsa",
        "outputId": "7ca69ab3-8c47-4dca-c6bd-f4243ac9e2f6"
      },
      "source": [
        "x = eval(\"print('55')\") # quotes must be alternate\n",
        "\n",
        "# x = eval(print('55')) Error"
      ],
      "execution_count": 7,
      "outputs": [
        {
          "output_type": "stream",
          "text": [
            "55\n"
          ],
          "name": "stdout"
        }
      ]
    },
    {
      "cell_type": "markdown",
      "metadata": {
        "id": "UUaHr5QFfXyl"
      },
      "source": [
        "# **File Handling**\n",
        "\n",
        "Code files for understanding file Handling:\n",
        "\n",
        "https://drive.google.com/drive/folders/1wMfQ-QZ6DhgekxenW1j-Yd7wtMgNpQlu?usp=sharing\n"
      ]
    }
  ]
}