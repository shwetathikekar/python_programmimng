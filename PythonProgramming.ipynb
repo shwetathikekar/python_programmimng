{
  "nbformat": 4,
  "nbformat_minor": 0,
  "metadata": {
    "colab": {
      "name": "PythonProgramming.ipynb",
      "provenance": [],
      "collapsed_sections": [
        "oSnGZickHFsv",
        "rOu70RjyHh7M",
        "Uin_6g2bRdHv"
      ],
      "authorship_tag": "ABX9TyN3qBxyW0dvGtxGJw3qOAsK",
      "include_colab_link": true
    },
    "kernelspec": {
      "name": "python3",
      "display_name": "Python 3"
    },
    "language_info": {
      "name": "python"
    }
  },
  "cells": [
    {
      "cell_type": "markdown",
      "metadata": {
        "id": "view-in-github",
        "colab_type": "text"
      },
      "source": [
        "<a href=\"https://colab.research.google.com/github/shwetathikekar/python_programmimng/blob/main/PythonProgramming.ipynb\" target=\"_parent\"><img src=\"https://colab.research.google.com/assets/colab-badge.svg\" alt=\"Open In Colab\"/></a>"
      ]
    },
    {
      "cell_type": "markdown",
      "metadata": {
        "id": "SJcGWSUKF55a"
      },
      "source": [
        "# **Need of Programming**\n",
        "\n",
        "We need programming to automate the machine. Machine will do the things very effectively, accuracy is more as comapare to human and also it save time and effort of human.  \n",
        "\n",
        "Example: Used for web application, mobile application, games etc."
      ]
    },
    {
      "cell_type": "markdown",
      "metadata": {
        "id": "qvdC7Hl4-Apn"
      },
      "source": [
        "# **Computer Languages**\n",
        "\n",
        "**Low Level Language**\n",
        "\n",
        "1.   Machine language\n",
        "2.   Assembly Language\n",
        "\n",
        "**High Level Language**\n",
        " \n",
        "1.   Object Oriented Programmimg Language \n",
        "2.   Visual Programming Language\n",
        "\n"
      ]
    },
    {
      "cell_type": "markdown",
      "metadata": {
        "id": "oSnGZickHFsv"
      },
      "source": [
        "# **Low Level language**\n",
        "\n",
        "A language that corresponds to a specific language "
      ]
    },
    {
      "cell_type": "markdown",
      "metadata": {
        "id": "fKhTKe-d_NL1"
      },
      "source": [
        "**1. Machine Language**\n",
        "\n",
        "Its low level programming language which basically used 0's and 1's for programming that's why we can say this language directly interpreted into the hardware\n",
        "\n",
        "**Advantages**\n",
        "\n",
        "*   Transaltion Free\n",
        "*   High Speed\n",
        "\n",
        "**Disadvantages**\n",
        "\n",
        "*   Hard to find error (program written in machine code)\n",
        "*   Time consuming\n",
        "\n",
        "\n"
      ]
    },
    {
      "cell_type": "markdown",
      "metadata": {
        "id": "ad629oA4AvDC"
      },
      "source": [
        "**2. Assembly Language**\n",
        "\n",
        "Its low level programming language. As compare to machine language it's slightly more user friendly language that directly corresponds to machine language.\n",
        "\n",
        "It used **Assembler** which is program to translate assembly language instruction into a machine language. \n",
        "\n",
        "**Advantages**\n",
        "\n",
        "*   Easy to understand\n",
        "*   Easy to used\n",
        "*   Easy to locate and correct error\n",
        "\n",
        "**Disadvantages**\n",
        "\n",
        "*   Machine dependent\n",
        "*   Hard to learn (^)\n",
        "*   Less efficient (more execution time and assembler needed)"
      ]
    },
    {
      "cell_type": "markdown",
      "metadata": {
        "id": "rOu70RjyHh7M"
      },
      "source": [
        "# **High Level Language**\n",
        "\n",
        "Any language that is independent of the machine"
      ]
    },
    {
      "cell_type": "markdown",
      "metadata": {
        "id": "ZIu_2AniDy-L"
      },
      "source": [
        "**1. Object Oriented Programming Language**\n",
        "\n",
        "Its high level programming language and machine independent. It contain english words and symbols. Specified rules are followed while writing the program\n",
        "\n",
        "\n",
        "It used **Compiler** which is program to translate source code to object code [machine code]. If any error found it display on screen.\n",
        "\n",
        "It used **Interpreter** which is program to translate source code to object code [machine code]. It translate program in line by line manner and it execute it immediately before translating the next statement. If any error found execution of program is halted and error get display on screen.\n",
        "\n",
        "\n",
        "**Advantages**\n",
        "\n",
        "*   Readability\n",
        "*   Machine independent\n",
        "*   Easy debugging\n",
        "\n",
        "**Disadvantages**\n",
        "\n",
        "* Less Efficient\n",
        "  *   Translation process\n",
        "  *   More memory\n",
        "  *   More execution time "
      ]
    },
    {
      "cell_type": "markdown",
      "metadata": {
        "id": "qFI0jF2cH51Y"
      },
      "source": [
        "**2. Visual Programming Language**\n",
        "\n",
        "Language that that are not text based. These programmimng language are designed for building windows based application"
      ]
    },
    {
      "cell_type": "markdown",
      "metadata": {
        "id": "PKvbyjgwIo34"
      },
      "source": [
        "# **Overview of Python**\n",
        "\n",
        "*   General Purpose Programming Language\n",
        "*   High Level Programming Language\n",
        "*   Interactive\n",
        "*   Interpreted\n",
        "*   Object Oriented Scripting Language \n",
        "\n",
        "Developed by **GUIDO VAN ROSSUM** in late 1980s and early 1990s\n",
        "\n",
        "\n",
        "*   Some other language information\n",
        "\n",
        " * **C** Developed by **Dennis Ritchie** in 1972\n",
        "\n",
        " * **C++** Developed by **Bjarne Stroustrup** in 1980\n",
        "\n",
        " * **Java** Developed by **Jame Gosling** in 1995\n",
        "\n",
        "Python derived from many other labguages including ABC, Modula-3, C, C++, Algol-68, SmallTalk and Unix Shell and other scripting languages\n",
        "\n"
      ]
    },
    {
      "cell_type": "markdown",
      "metadata": {
        "id": "2S5ackgsLYyZ"
      },
      "source": [
        "# **Python Features**\n",
        "\n",
        "*   Easy to learn\n",
        "*   Easy to read\n",
        "*   Easy to maintain\n",
        "*   Standard library which are easy to understand and portable\n",
        "*   Interactive mode - Interractive testibg and debugging of snippets of code\n",
        "*   Portable\n",
        "*   Extendable - We can add low level modules to the python interpreter. This  module enable programmer to add to or customize their tools to be more efficient.\n",
        "*   Database - Python provide interfaces to all major commercial database\n",
        "*   GUI Programming \n",
        "*   Scalable - Provide better structure and support for large programming than shell scripting \n",
        "\n",
        "**Google, Facebook, Instagram, Spotify, Ouora, Netflix, Dropbox, Reddit are some popular oraganizations which are using python**\n",
        "\n"
      ]
    },
    {
      "cell_type": "markdown",
      "metadata": {
        "id": "LXq-keM1ga4B"
      },
      "source": [
        "# **Python Application in Various Domain**\n",
        "\n",
        "*   Web and internet development\n",
        "*   Scientific and numeric\n",
        "*   Education\n",
        "*   Desktop GUIs\n",
        "*   Software Develpment\n",
        "*   Business application\n",
        "\n",
        "**OFFICIAL WEBSITE FOR MORE INFO:** https://www.python.org/\n",
        "\n"
      ]
    },
    {
      "cell_type": "markdown",
      "metadata": {
        "id": "mxxl22nv28sD"
      },
      "source": [
        "# **Comments in Python**\n",
        "\n",
        "Single line comment\n",
        "\n",
        "        #This is single line comment\n",
        "\n",
        "  Multiple line comment\n",
        "\n",
        "        '''\n",
        "              This is single line comment\n",
        "        '''\n"
      ]
    },
    {
      "cell_type": "markdown",
      "metadata": {
        "id": "fOkRgqTTsYxe"
      },
      "source": [
        "# **Variable**\n",
        "\n",
        "Variable are containers for storing data values. In python we don't declared variable to create we have to assign value to it. \n",
        "\n",
        "Also after seting it we can change the type of variable. To get data type used type() function.\n",
        "\n"
      ]
    },
    {
      "cell_type": "code",
      "metadata": {
        "colab": {
          "base_uri": "https://localhost:8080/"
        },
        "id": "ysDmPCg4s39P",
        "outputId": "3b8d1949-0288-4ff8-cd1e-20bcc35e270d"
      },
      "source": [
        "# Python is case sensitive\n",
        "\n",
        "Name = \"shweta\"\n",
        "name = 'shweta' # we can used single or double cotes for string\n",
        "\n",
        "\n",
        "num = 10\n",
        "num2 = 10.5\n",
        "\n",
        "print(Name, name, num, num2)\n",
        "\n",
        "Name = \"Shweta Thikekar\"\n",
        "\n",
        "print(Name)\n",
        "\n",
        "x = str(3) # STRING\n",
        "y = int(3) # NUMBER\n",
        "z = float(3) # FLOAT 3.0\n",
        "\n",
        "print(x,y,z)\n",
        "\n",
        "# To get data type used type() function\n",
        "\n",
        "print(type(x), type(y), type(z))"
      ],
      "execution_count": null,
      "outputs": [
        {
          "output_type": "stream",
          "text": [
            "shweta shweta 10 10.5\n",
            "Shweta Thikekar\n",
            "3 3 3.0\n",
            "<class 'str'> <class 'int'> <class 'float'>\n"
          ],
          "name": "stdout"
        }
      ]
    },
    {
      "cell_type": "markdown",
      "metadata": {
        "id": "NQSZ7NAwtc2M"
      },
      "source": [
        "# **Some Rules**\n",
        "\n",
        "A variable can have a short name or a more descriptive name(age,total)\n",
        "\n",
        "*   Start with letter or underscore\n",
        "*   Can not start with number\n",
        "*   Only contain alpha-numeric and umderscore\n",
        "*   Names are case sensitive\n",
        "\n",
        "Some Techniques:\n",
        "\n",
        "*   Camel Case: myVariableName = \"shweta\" \n",
        "*   Pascal Case:  MyVariableName = \"shweta\"\n",
        "*   Snake Case:  My_Variable_Name = \"shweta\"\n",
        "\n",
        "Also we can assign mutiple values to different variable or one value to multiple variables.\n",
        "\n"
      ]
    },
    {
      "cell_type": "code",
      "metadata": {
        "colab": {
          "base_uri": "https://localhost:8080/"
        },
        "id": "pKL52Fa4zFcN",
        "outputId": "c5a2ec18-8508-4a78-a5e5-5939597d7aa7"
      },
      "source": [
        "x, y, z = 10, 20, 30\n",
        "\n",
        "print (x,y,z)\n",
        "\n",
        "x=y=z=10\n",
        "\n",
        "print (x,y,z)\n",
        "\n",
        "# Unpacking \n",
        "\n",
        "fruits = [\"Apple\" , \"Banana\" , \"Cherry\"]\n",
        "\n",
        "x, y, z = fruits\n",
        "\n",
        "print (x,y,z)\n",
        "\n",
        "# Concatenation\n",
        "\n",
        "a = 'Shweta'\n",
        "b = \"Thikekar\"\n",
        "c = 10\n",
        "d = 20\n",
        "\n",
        "print(a + \" \" + b)  # for space in between \n",
        "\n",
        "print(c+d)\n",
        "\n",
        "# print(a+d) # TypeError: can only concatenate str (not \"int\") to str "
      ],
      "execution_count": null,
      "outputs": [
        {
          "output_type": "stream",
          "text": [
            "10 20 30\n",
            "10 10 10\n",
            "Apple Banana Cherry\n",
            "Shweta Thikekar\n",
            "30\n"
          ],
          "name": "stdout"
        }
      ]
    },
    {
      "cell_type": "markdown",
      "metadata": {
        "id": "QZBT5jaF1btd"
      },
      "source": [
        "# **Global and Local Variabl**e"
      ]
    },
    {
      "cell_type": "code",
      "metadata": {
        "colab": {
          "base_uri": "https://localhost:8080/"
        },
        "id": "xzIUK6Ec1k4M",
        "outputId": "9b8813d0-a011-4df8-a257-5f6ec25b51ab"
      },
      "source": [
        "x = \"Hello\" # Global Variable\n",
        "\n",
        "def demo():\n",
        "  x = \"Bye\" # Local Variable\n",
        "  print(x)\n",
        "\n",
        "demo()\n",
        "print(x)\n",
        "\n",
        "# By using Global keyword\n",
        "\n",
        "print(\"By using Global keyword\")\n",
        "\n",
        "x = \"Hello\" # Global Variable\n",
        "\n",
        "def demo():\n",
        "  global x\n",
        "  x = \"Bye\" # Local Variable\n",
        "  print(x)\n",
        "\n",
        "demo()\n",
        "print(x)"
      ],
      "execution_count": null,
      "outputs": [
        {
          "output_type": "stream",
          "text": [
            "Bye\n",
            "Hello\n",
            "By using Global keyword\n",
            "Bye\n",
            "Bye\n"
          ],
          "name": "stdout"
        }
      ]
    },
    {
      "cell_type": "code",
      "metadata": {
        "colab": {
          "base_uri": "https://localhost:8080/"
        },
        "id": "2n_720tnwWv2",
        "outputId": "20137a41-3da8-40ee-d708-6d621dffb31f"
      },
      "source": [
        "a = 1.1 + 2.2\n",
        "\n",
        "print(a==3.3)"
      ],
      "execution_count": null,
      "outputs": [
        {
          "output_type": "stream",
          "text": [
            "False\n"
          ],
          "name": "stdout"
        }
      ]
    },
    {
      "cell_type": "code",
      "metadata": {
        "colab": {
          "base_uri": "https://localhost:8080/"
        },
        "id": "4rK5oWsZw2qQ",
        "outputId": "431d73ba-faf5-4b3e-f38d-743411b25586"
      },
      "source": [
        "t = -10\n",
        "\n",
        "a = 1.1 + 2.2\n",
        "\n",
        "abs(a - 3.3) < t\n"
      ],
      "execution_count": null,
      "outputs": [
        {
          "output_type": "execute_result",
          "data": {
            "text/plain": [
              "False"
            ]
          },
          "metadata": {
            "tags": []
          },
          "execution_count": 4
        }
      ]
    },
    {
      "cell_type": "markdown",
      "metadata": {
        "id": "-4OXUdzUQla4"
      },
      "source": [
        "# **Operands and Expression**\n",
        "\n",
        "a = 10\n",
        "b = 20\n",
        "\n",
        "a+b\n",
        "\n",
        "In this case, the  + operator add the oprends a and b together. \n",
        "\n",
        "A sequence of operands and operators like a+b+5 is called an expression."
      ]
    },
    {
      "cell_type": "markdown",
      "metadata": {
        "id": "Uin_6g2bRdHv"
      },
      "source": [
        "# **Arithmetic Operator**"
      ]
    },
    {
      "cell_type": "code",
      "metadata": {
        "colab": {
          "base_uri": "https://localhost:8080/"
        },
        "id": "PPZW-wokRYi-",
        "outputId": "2751545d-47c1-4be5-c41e-efa4a3f56d59"
      },
      "source": [
        "#  9 Arithmetic Operators\n",
        "\n",
        "a = 10\n",
        "b = 20\n",
        "\n",
        "print(\"Unary Positive\", +a) # Unary Positive\n",
        "\n",
        "print(\"Unary Negation\", -a) # Unary Negation\n",
        "\n",
        "print(\"Addition\", a+b) # Addition\n",
        "\n",
        "print(\"Subtraction\", a-b) # Subtraction\n",
        "\n",
        "print(\"Multiplication\", a*b) # Multiplication\n",
        "\n",
        "print(\"Division\", a/b) # Division\n",
        "\n",
        "print(\"Module\", a%b) # Module\n",
        "\n",
        "print(\"Floor Division\", a//b) # Floor Division\n",
        "\n",
        "print(\"Exponetiation\", a**b) # Exponetiation\n"
      ],
      "execution_count": 3,
      "outputs": [
        {
          "output_type": "stream",
          "text": [
            "Unary Positive 10\n",
            "Unary Negation -10\n",
            "Addition 30\n",
            "Subtraction -10\n",
            "Multiplication 200\n",
            "Division 0.5\n",
            "Module 10\n",
            "Floor Division 0\n",
            "Exponetiation 100000000000000000000\n"
          ],
          "name": "stdout"
        }
      ]
    },
    {
      "cell_type": "markdown",
      "metadata": {
        "id": "9WYgNFkWT1Qi"
      },
      "source": [
        "#**Comparison Operator**"
      ]
    },
    {
      "cell_type": "code",
      "metadata": {
        "colab": {
          "base_uri": "https://localhost:8080/"
        },
        "id": "fmjDarN1T7WR",
        "outputId": "28ca2623-cbb7-4e7b-cf81-0682ad8fd9cb"
      },
      "source": [
        "# Comparison Operator\n",
        "\n",
        "a = 10\n",
        "b = 20\n",
        "\n",
        "print(\"Equal to: \", a==b) # Equal to\n",
        "\n",
        "print(\"Not equal to: \", a!=b) # Not equal to\n",
        "\n",
        "print(\"Greater than:\", a>b) # Greater than\n",
        "\n",
        "print(\"Greater than equal to:\", a>=b) # Greater than equal to\n",
        "\n",
        "print(\"less than:\", a<b) # less than\n",
        "\n",
        "print(\"less than equal to:\", a<=b) # less than equal to\n",
        "\n"
      ],
      "execution_count": 6,
      "outputs": [
        {
          "output_type": "stream",
          "text": [
            "Equal to:  False\n",
            "Not equal to:  True\n",
            "Greater than: False\n",
            "Greater than equal to: False\n",
            "less than: True\n",
            "less than equal to: True\n"
          ],
          "name": "stdout"
        }
      ]
    },
    {
      "cell_type": "markdown",
      "metadata": {
        "id": "g57NWpk0VWQU"
      },
      "source": [
        "# **Equality comparison on floating point values**\n",
        "\n",
        "The value stored internally for a float object may not be precisely what you’d think it would be.\n",
        "\n",
        "For that reason, it is poor practice to compare floating-point values for exact equality."
      ]
    },
    {
      "cell_type": "code",
      "metadata": {
        "colab": {
          "base_uri": "https://localhost:8080/"
        },
        "id": "cb_QdRbWVdny",
        "outputId": "40129f76-bf2e-4539-d87f-c053f6e2ed06"
      },
      "source": [
        "x = 1.1 + 2.2\n",
        "\n",
        "print (x == 3.3)"
      ],
      "execution_count": 7,
      "outputs": [
        {
          "output_type": "stream",
          "text": [
            "False\n"
          ],
          "name": "stdout"
        }
      ]
    },
    {
      "cell_type": "markdown",
      "metadata": {
        "id": "AVFBQZbRWAO1"
      },
      "source": [
        "The internal representations of the addition operands are not exactly equal to 1.1 and 2.2, so you cannot rely on x to compare exactly to 3.3.\n",
        "\n",
        "The preferred way to determine whether two floating-point values are “equal” is to compute whether they are close to one another, given some tolerance."
      ]
    },
    {
      "cell_type": "code",
      "metadata": {
        "colab": {
          "base_uri": "https://localhost:8080/"
        },
        "id": "ee3yyXpKWEIy",
        "outputId": "8c802914-9979-40eb-f17e-c11ca806832c"
      },
      "source": [
        "tolerance = 0.00001 # give any name to value\n",
        "x = 1.1 + 2.2\n",
        "abs(x - 3.3) < tolerance"
      ],
      "execution_count": 8,
      "outputs": [
        {
          "output_type": "execute_result",
          "data": {
            "text/plain": [
              "True"
            ]
          },
          "metadata": {
            "tags": []
          },
          "execution_count": 8
        }
      ]
    },
    {
      "cell_type": "markdown",
      "metadata": {
        "id": "6TLYbNGqWTTr"
      },
      "source": [
        "# **Logical Operator**\n",
        "\n",
        "1.   Logical expression involving boolean operands\n",
        "2.   Evalution of non-boolean value in boolean context\n",
        "\n"
      ]
    },
    {
      "cell_type": "markdown",
      "metadata": {
        "id": "fczBTQupW9eN"
      },
      "source": [
        "1. Logical expression involving boolean operands"
      ]
    },
    {
      "cell_type": "code",
      "metadata": {
        "colab": {
          "base_uri": "https://localhost:8080/"
        },
        "id": "gBWsL4q2XL9F",
        "outputId": "d9227e47-6a4f-49ce-dc0c-c43f2c43819c"
      },
      "source": [
        "a = 10 \n",
        "b = 20\n",
        "c = 30\n",
        "d = 40\n",
        "\n",
        "# 1) not \n",
        "\n",
        "print(\"not operator:\", not a > 20) # execute a > 20 then not it\n",
        "\n",
        "# 2) or\n",
        "\n",
        "print(\"or operator:\", a>b or c>d)\n",
        "\n",
        "# 3) and\n",
        "\n",
        "print(\"and operator:\", a<b and c<d)\n",
        "\n"
      ],
      "execution_count": 14,
      "outputs": [
        {
          "output_type": "stream",
          "text": [
            "not operator: True\n",
            "or operator: False\n",
            "and operator True\n"
          ],
          "name": "stdout"
        }
      ]
    },
    {
      "cell_type": "markdown",
      "metadata": {
        "id": "QjQG2bnvZBAi"
      },
      "source": [
        "2. Evalution of non-boolean value in boolean context\n",
        "\n",
        "      You can determine the “truthiness” of an object or expression with the   built-in bool() function. bool() returns True if its argument is truthy and False if it is falsy.\n",
        "\n"
      ]
    },
    {
      "cell_type": "code",
      "metadata": {
        "colab": {
          "base_uri": "https://localhost:8080/"
        },
        "id": "w6fGW5sFZGzc",
        "outputId": "b2ca5310-1581-46b7-d809-22ce5a761674"
      },
      "source": [
        "'''\n",
        "1) Numeric Value\n",
        "\n",
        "A zero value is false.\n",
        "A non-zero value is true.\n",
        "'''\n",
        "\n",
        "print(\"1) Numeric Value\\n\")\n",
        "\n",
        "print(bool(0),bool(0.0),bool(0.0+0j))\n",
        "\n",
        "print(bool(-3),bool(4.4),bool(1.1+4j),\"\\n\")\n",
        "\n",
        "\n",
        "'''\n",
        "2) String\n",
        "\n",
        "An empty string is false.\n",
        "A non-empty string is true.\n",
        "'''\n",
        "\n",
        "print(\"2) String\\n\")\n",
        "\n",
        "print(bool(''), bool(\"\"), bool(\"\"\"\"\"\"))\n",
        "\n",
        "\n",
        "print(bool('foo'), bool(\" \"), bool(''' '''),\"\\n\")\n",
        "\n",
        "'''\n",
        "3) Built-In Composite Data Object\n",
        "Python provides built-in composite data types called list, tuple, dict, and set. \n",
        "These are “container” types that contain other objects. \n",
        "An object of one of these types is considered false if it is empty and true if it is non-empty.\n",
        "'''\n",
        "\n",
        "print(\"3) Built-In Composite Data Object\\n\")\n",
        "\n",
        "print(type([]))\n",
        "\n",
        "print(bool([]))\n",
        "\n",
        "\n",
        "print(type([1, 2, 3]))\n",
        "\n",
        "print(bool([1, 2, 3]),\"\\n\")\n",
        "\n",
        "# None Keyword\n",
        "\n",
        "print(\"None keyword:\", bool(None))\n"
      ],
      "execution_count": 35,
      "outputs": [
        {
          "output_type": "stream",
          "text": [
            "1) Numeric Value\n",
            "\n",
            "False False False\n",
            "True True True \n",
            "\n",
            "2) String\n",
            "\n",
            "False False False\n",
            "True True True \n",
            "\n",
            "3) Built-In Composite Data Object\n",
            "\n",
            "<class 'list'>\n",
            "False\n",
            "<class 'list'>\n",
            "True \n",
            "\n",
            "None keyword: False\n"
          ],
          "name": "stdout"
        }
      ]
    }
  ]
}